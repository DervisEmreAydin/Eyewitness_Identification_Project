{
 "cells": [
  {
   "cell_type": "code",
   "execution_count": 1,
   "metadata": {},
   "outputs": [],
   "source": [
    "from deepface import DeepFace\n",
    "from deepface.commons import functions\n",
    "import cv2\n",
    "import matplotlib.pyplot as plt\n",
    "import tkinter as tk \n",
    "from PIL import Image, ImageTk\n",
    "import random"
   ]
  },
  {
   "cell_type": "code",
   "execution_count": null,
   "metadata": {},
   "outputs": [],
   "source": [
    "img1_path= 'C:\\\\Users\\\\UNKNOWN\\\\Desktop\\\\GB6\\\\1.png'\n",
    "img2_path= 'C:\\\\Users\\\\UNKNOWN\\\\Desktop\\\\GB6\\\\2.png'\n",
    "img3_path= 'C:\\\\Users\\\\UNKNOWN\\\\Desktop\\\\GB6\\\\3.png'\n",
    "img4_path= 'C:\\\\Users\\\\UNKNOWN\\\\Desktop\\\\GB6\\\\4.png'\n",
    "img5_path= 'C:\\\\Users\\\\UNKNOWN\\\\Desktop\\\\GB6\\\\5.png'\n",
    "img6_path= 'C:\\\\Users\\\\UNKNOWN\\\\Desktop\\\\GB6\\\\6.png'\n",
    "\n",
    "resp1= DeepFace.verify(img1_path,img2_path, \n",
    "                       model_name= \"VGG-Face\", \n",
    "                       distance_metric= \"cosine\")\n",
    "resp2= DeepFace.verify(img1_path,img3_path)\n",
    "resp3= DeepFace.verify(img1_path,img4_path)\n",
    "resp4= DeepFace.verify(img1_path,img5_path)\n",
    "resp5= DeepFace.verify(img1_path,img6_path)"
   ]
  },
  {
   "cell_type": "code",
   "execution_count": null,
   "metadata": {},
   "outputs": [],
   "source": [
    "resp1,resp2,resp3,resp4,resp5"
   ]
  },
  {
   "cell_type": "code",
   "execution_count": null,
   "metadata": {},
   "outputs": [],
   "source": [
    "imgJ1_path= 'C:\\\\Users\\\\UNKNOWN\\\\Desktop\\\\FaceDataset\\\\Johnny_Depp_1_p.jpg'\n",
    "imgJ2_path= 'C:\\\\Users\\\\UNKNOWN\\\\Desktop\\\\FaceDataset\\\\Johnny_Depp_1.jpg'\n",
    "imgJ3_path= 'C:\\\\Users\\\\UNKNOWN\\\\Desktop\\\\FaceDataset\\\\Johnny_Depp_2.jpg'\n",
    "imgF1_path= 'C:\\\\Users\\\\UNKNOWN\\\\Desktop\\\\FaceDataset\\\\v3_0209348.jpg'\n",
    "imgF2_path= 'C:\\\\Users\\\\UNKNOWN\\\\Desktop\\\\FaceDataset\\\\v3_0879923.jpg'\n",
    "imgF3_path= 'C:\\\\Users\\\\UNKNOWN\\\\Desktop\\\\FaceDataset\\\\v3_0832700.jpg'\n",
    "\n",
    "resp1= DeepFace.verify(imgJ1_path,imgJ2_path, \n",
    "                       model_name= \"VGG-Face\", \n",
    "                       distance_metric= \"cosine\")\n",
    "resp2= DeepFace.verify(imgJ1_path,imgJ3_path)\n",
    "resp3= DeepFace.verify(imgJ1_path,imgF1_path)\n",
    "resp4= DeepFace.verify(imgJ1_path,imgF2_path)\n",
    "resp5= DeepFace.verify(imgJ1_path,imgF3_path)"
   ]
  },
  {
   "cell_type": "code",
   "execution_count": null,
   "metadata": {},
   "outputs": [],
   "source": [
    "resp1,resp2,resp3,resp4,resp5"
   ]
  },
  {
   "cell_type": "code",
   "execution_count": 4,
   "metadata": {},
   "outputs": [
    {
     "ename": "SyntaxError",
     "evalue": "invalid syntax (Temp/ipykernel_10060/1360710249.py, line 2)",
     "output_type": "error",
     "traceback": [
      "\u001b[1;36m  File \u001b[1;32m\"C:\\Users\\Lenova\\AppData\\Local\\Temp/ipykernel_10060/1360710249.py\"\u001b[1;36m, line \u001b[1;32m2\u001b[0m\n\u001b[1;33m    db_path = 'C:\\\\Users\\\\Lenova\\\\Desktop\\\\Eyewitness_Identification_Project-main')\u001b[0m\n\u001b[1;37m    ^\u001b[0m\n\u001b[1;31mSyntaxError\u001b[0m\u001b[1;31m:\u001b[0m invalid syntax\n"
     ]
    }
   ],
   "source": [
    "df = DeepFace.find(img_path = 'C:\\\\Users\\\\Lenova\\\\Desktop\\\\Eyewitness_Identification_Project-main\\\\Target\\\\Johnny_Depp_1_p.jpg' \n",
    "                   db_path = 'C:\\\\Users\\\\Lenova\\\\Desktop\\\\Eyewitness_Identification_Project-main')\n"
   ]
  },
  {
   "cell_type": "code",
   "execution_count": 19,
   "metadata": {},
   "outputs": [
    {
     "data": {
      "text/html": [
       "<div>\n",
       "<style scoped>\n",
       "    .dataframe tbody tr th:only-of-type {\n",
       "        vertical-align: middle;\n",
       "    }\n",
       "\n",
       "    .dataframe tbody tr th {\n",
       "        vertical-align: top;\n",
       "    }\n",
       "\n",
       "    .dataframe thead th {\n",
       "        text-align: right;\n",
       "    }\n",
       "</style>\n",
       "<table border=\"1\" class=\"dataframe\">\n",
       "  <thead>\n",
       "    <tr style=\"text-align: right;\">\n",
       "      <th></th>\n",
       "      <th>identity</th>\n",
       "      <th>VGG-Face_cosine</th>\n",
       "    </tr>\n",
       "  </thead>\n",
       "  <tbody>\n",
       "    <tr>\n",
       "      <th>0</th>\n",
       "      <td>C:\\Users\\UNKNOWN\\Desktop\\FaceDataset/Johnny_De...</td>\n",
       "      <td>1.192093e-07</td>\n",
       "    </tr>\n",
       "    <tr>\n",
       "      <th>1</th>\n",
       "      <td>C:\\Users\\UNKNOWN\\Desktop\\FaceDataset/Johnny_De...</td>\n",
       "      <td>2.894789e-02</td>\n",
       "    </tr>\n",
       "    <tr>\n",
       "      <th>2</th>\n",
       "      <td>C:\\Users\\UNKNOWN\\Desktop\\FaceDataset/Johnny_De...</td>\n",
       "      <td>2.907099e-01</td>\n",
       "    </tr>\n",
       "    <tr>\n",
       "      <th>3</th>\n",
       "      <td>C:\\Users\\UNKNOWN\\Desktop\\FaceDataset/v3_020934...</td>\n",
       "      <td>2.930224e-01</td>\n",
       "    </tr>\n",
       "    <tr>\n",
       "      <th>4</th>\n",
       "      <td>C:\\Users\\UNKNOWN\\Desktop\\FaceDataset/v3_087992...</td>\n",
       "      <td>2.982798e-01</td>\n",
       "    </tr>\n",
       "    <tr>\n",
       "      <th>...</th>\n",
       "      <td>...</td>\n",
       "      <td>...</td>\n",
       "    </tr>\n",
       "    <tr>\n",
       "      <th>62</th>\n",
       "      <td>C:\\Users\\UNKNOWN\\Desktop\\FaceDataset/v3_084615...</td>\n",
       "      <td>3.925477e-01</td>\n",
       "    </tr>\n",
       "    <tr>\n",
       "      <th>63</th>\n",
       "      <td>C:\\Users\\UNKNOWN\\Desktop\\FaceDataset/v3_013079...</td>\n",
       "      <td>3.925827e-01</td>\n",
       "    </tr>\n",
       "    <tr>\n",
       "      <th>64</th>\n",
       "      <td>C:\\Users\\UNKNOWN\\Desktop\\FaceDataset/v3_000595...</td>\n",
       "      <td>3.929867e-01</td>\n",
       "    </tr>\n",
       "    <tr>\n",
       "      <th>65</th>\n",
       "      <td>C:\\Users\\UNKNOWN\\Desktop\\FaceDataset/v3_053890...</td>\n",
       "      <td>3.935996e-01</td>\n",
       "    </tr>\n",
       "    <tr>\n",
       "      <th>66</th>\n",
       "      <td>C:\\Users\\UNKNOWN\\Desktop\\FaceDataset/v3_068762...</td>\n",
       "      <td>3.975689e-01</td>\n",
       "    </tr>\n",
       "  </tbody>\n",
       "</table>\n",
       "<p>67 rows × 2 columns</p>\n",
       "</div>"
      ],
      "text/plain": [
       "                                             identity  VGG-Face_cosine\n",
       "0   C:\\Users\\UNKNOWN\\Desktop\\FaceDataset/Johnny_De...     1.192093e-07\n",
       "1   C:\\Users\\UNKNOWN\\Desktop\\FaceDataset/Johnny_De...     2.894789e-02\n",
       "2   C:\\Users\\UNKNOWN\\Desktop\\FaceDataset/Johnny_De...     2.907099e-01\n",
       "3   C:\\Users\\UNKNOWN\\Desktop\\FaceDataset/v3_020934...     2.930224e-01\n",
       "4   C:\\Users\\UNKNOWN\\Desktop\\FaceDataset/v3_087992...     2.982798e-01\n",
       "..                                                ...              ...\n",
       "62  C:\\Users\\UNKNOWN\\Desktop\\FaceDataset/v3_084615...     3.925477e-01\n",
       "63  C:\\Users\\UNKNOWN\\Desktop\\FaceDataset/v3_013079...     3.925827e-01\n",
       "64  C:\\Users\\UNKNOWN\\Desktop\\FaceDataset/v3_000595...     3.929867e-01\n",
       "65  C:\\Users\\UNKNOWN\\Desktop\\FaceDataset/v3_053890...     3.935996e-01\n",
       "66  C:\\Users\\UNKNOWN\\Desktop\\FaceDataset/v3_068762...     3.975689e-01\n",
       "\n",
       "[67 rows x 2 columns]"
      ]
     },
     "execution_count": 19,
     "metadata": {},
     "output_type": "execute_result"
    }
   ],
   "source": [
    "df"
   ]
  },
  {
   "cell_type": "code",
   "execution_count": 5,
   "metadata": {},
   "outputs": [
    {
     "name": "stdout",
     "output_type": "stream",
     "text": [
      "['C:\\\\Users\\\\UNKNOWN\\\\Desktop\\\\FaceDataset/v3_0295074.jpg', 'C:\\\\Users\\\\UNKNOWN\\\\Desktop\\\\FaceDataset/v3_0563270.jpg', 'C:\\\\Users\\\\UNKNOWN\\\\Desktop\\\\FaceDataset/v3_0508660.jpg', 'C:\\\\Users\\\\UNKNOWN\\\\Desktop\\\\FaceDataset/v3_0509429.jpg', 'C:\\\\Users\\\\UNKNOWN\\\\Desktop\\\\FaceDataset/v3_0926561.jpg', 'C:\\\\Users\\\\UNKNOWN\\\\Desktop\\\\FaceDataset/v3_0846155.jpg', 'C:\\\\Users\\\\UNKNOWN\\\\Desktop\\\\FaceDataset/v3_0130792.jpg', 'C:\\\\Users\\\\UNKNOWN\\\\Desktop\\\\FaceDataset/v3_0005954.jpg', 'C:\\\\Users\\\\UNKNOWN\\\\Desktop\\\\FaceDataset/v3_0538902.jpg', 'C:\\\\Users\\\\UNKNOWN\\\\Desktop\\\\FaceDataset/v3_0687627.jpg']\n"
     ]
    }
   ],
   "source": [
    "Photos = df['identity'].values.tolist()\n",
    "print (Photos[-10:])"
   ]
  },
  {
   "cell_type": "code",
   "execution_count": 6,
   "metadata": {
    "scrolled": true
   },
   "outputs": [
    {
     "name": "stderr",
     "output_type": "stream",
     "text": [
      "Analyzing:   0%|          | 0/10 [00:00<?, ?it/s]\n",
      "Finding actions:   0%|          | 0/4 [00:00<?, ?it/s]\u001b[A\n",
      "Action: emotion:   0%|          | 0/4 [00:00<?, ?it/s]\u001b[A"
     ]
    },
    {
     "name": "stdout",
     "output_type": "stream",
     "text": [
      "WARNING:tensorflow:5 out of the last 3375 calls to <function Model.make_predict_function.<locals>.predict_function at 0x000001C9A2884B80> triggered tf.function retracing. Tracing is expensive and the excessive number of tracings could be due to (1) creating @tf.function repeatedly in a loop, (2) passing tensors with different shapes, (3) passing Python objects instead of tensors. For (1), please define your @tf.function outside of the loop. For (2), @tf.function has experimental_relax_shapes=True option that relaxes argument shapes that can avoid unnecessary retracing. For (3), please refer to https://www.tensorflow.org/guide/function#controlling_retracing and https://www.tensorflow.org/api_docs/python/tf/function for  more details.\n",
      "WARNING:tensorflow:6 out of the last 3376 calls to <function Model.make_predict_function.<locals>.predict_function at 0x000001C99A0D4700> triggered tf.function retracing. Tracing is expensive and the excessive number of tracings could be due to (1) creating @tf.function repeatedly in a loop, (2) passing tensors with different shapes, (3) passing Python objects instead of tensors. For (1), please define your @tf.function outside of the loop. For (2), @tf.function has experimental_relax_shapes=True option that relaxes argument shapes that can avoid unnecessary retracing. For (3), please refer to https://www.tensorflow.org/guide/function#controlling_retracing and https://www.tensorflow.org/api_docs/python/tf/function for  more details.\n"
     ]
    },
    {
     "name": "stderr",
     "output_type": "stream",
     "text": [
      "\n",
      "Action: emotion:  25%|██▌       | 1/4 [00:02<00:06,  2.19s/it]\u001b[A\n",
      "Action: age:  25%|██▌       | 1/4 [00:02<00:06,  2.19s/it]    \u001b[A\n",
      "Action: age:  50%|█████     | 2/4 [00:04<00:04,  2.14s/it]\u001b[A\n",
      "Action: gender:  50%|█████     | 2/4 [00:04<00:04,  2.14s/it]\u001b[A\n",
      "Action: gender:  75%|███████▌  | 3/4 [00:05<00:01,  1.74s/it]\u001b[A\n",
      "Action: race:  75%|███████▌  | 3/4 [00:05<00:01,  1.74s/it]  \u001b[A\n",
      "Action: race: 100%|██████████| 4/4 [00:05<00:00,  1.45s/it]\u001b[A\n",
      "Analyzing:  10%|█         | 1/10 [00:05<00:52,  5.82s/it]\n",
      "Finding actions:   0%|          | 0/4 [00:00<?, ?it/s]\u001b[A\n",
      "Action: emotion:   0%|          | 0/4 [00:00<?, ?it/s]\u001b[A\n",
      "Action: emotion:  25%|██▌       | 1/4 [00:01<00:03,  1.31s/it]\u001b[A\n",
      "Action: age:  25%|██▌       | 1/4 [00:01<00:03,  1.31s/it]    \u001b[A\n",
      "Action: age:  50%|█████     | 2/4 [00:03<00:02,  1.45s/it]\u001b[A\n",
      "Action: gender:  50%|█████     | 2/4 [00:03<00:02,  1.45s/it]\u001b[A\n",
      "Action: gender:  75%|███████▌  | 3/4 [00:03<00:01,  1.17s/it]\u001b[A\n",
      "Action: race:  75%|███████▌  | 3/4 [00:03<00:01,  1.17s/it]  \u001b[A\n",
      "Action: race: 100%|██████████| 4/4 [00:04<00:00,  1.02s/it]\u001b[A\n",
      "Analyzing:  20%|██        | 2/10 [00:09<00:42,  5.31s/it]\n",
      "Finding actions:   0%|          | 0/4 [00:00<?, ?it/s]\u001b[A\n",
      "Action: emotion:   0%|          | 0/4 [00:00<?, ?it/s]\u001b[A\n",
      "Action: emotion:  25%|██▌       | 1/4 [00:01<00:04,  1.53s/it]\u001b[A\n",
      "Action: age:  25%|██▌       | 1/4 [00:01<00:04,  1.53s/it]    \u001b[A\n",
      "Action: age:  50%|█████     | 2/4 [00:03<00:03,  1.61s/it]\u001b[A\n",
      "Action: gender:  50%|█████     | 2/4 [00:03<00:03,  1.61s/it]\u001b[A\n",
      "Action: gender:  75%|███████▌  | 3/4 [00:03<00:01,  1.29s/it]\u001b[A\n",
      "Action: race:  75%|███████▌  | 3/4 [00:03<00:01,  1.29s/it]  \u001b[A\n",
      "Action: race: 100%|██████████| 4/4 [00:04<00:00,  1.11s/it]\u001b[A\n",
      "Analyzing:  30%|███       | 3/10 [00:14<00:35,  5.06s/it]\n",
      "Finding actions:   0%|          | 0/4 [00:00<?, ?it/s]\u001b[A\n",
      "Action: emotion:   0%|          | 0/4 [00:00<?, ?it/s]\u001b[A\n",
      "Action: emotion:  25%|██▌       | 1/4 [00:01<00:04,  1.45s/it]\u001b[A\n",
      "Action: age:  25%|██▌       | 1/4 [00:01<00:04,  1.45s/it]    \u001b[A\n",
      "Action: age:  50%|█████     | 2/4 [00:03<00:03,  1.56s/it]\u001b[A\n",
      "Action: gender:  50%|█████     | 2/4 [00:03<00:03,  1.56s/it]\u001b[A\n",
      "Action: gender:  75%|███████▌  | 3/4 [00:03<00:01,  1.24s/it]\u001b[A\n",
      "Action: race:  75%|███████▌  | 3/4 [00:03<00:01,  1.24s/it]  \u001b[A\n",
      "Action: race: 100%|██████████| 4/4 [00:04<00:00,  1.08s/it]\u001b[A\n",
      "Analyzing:  40%|████      | 4/10 [00:18<00:29,  4.84s/it]\n",
      "Finding actions:   0%|          | 0/4 [00:00<?, ?it/s]\u001b[A\n",
      "Action: emotion:   0%|          | 0/4 [00:00<?, ?it/s]\u001b[A\n",
      "Action: emotion:  25%|██▌       | 1/4 [00:01<00:04,  1.37s/it]\u001b[A\n",
      "Action: age:  25%|██▌       | 1/4 [00:01<00:04,  1.37s/it]    \u001b[A\n",
      "Action: age:  50%|█████     | 2/4 [00:03<00:03,  1.53s/it]\u001b[A\n",
      "Action: gender:  50%|█████     | 2/4 [00:03<00:03,  1.53s/it]\u001b[A\n",
      "Action: gender:  75%|███████▌  | 3/4 [00:03<00:01,  1.23s/it]\u001b[A\n",
      "Action: race:  75%|███████▌  | 3/4 [00:03<00:01,  1.23s/it]  \u001b[A\n",
      "Action: race: 100%|██████████| 4/4 [00:04<00:00,  1.09s/it]\u001b[A\n",
      "Analyzing:  50%|█████     | 5/10 [00:23<00:23,  4.69s/it]\n",
      "Finding actions:   0%|          | 0/4 [00:00<?, ?it/s]\u001b[A\n",
      "Action: emotion:   0%|          | 0/4 [00:00<?, ?it/s]\u001b[A\n",
      "Action: emotion:  25%|██▌       | 1/4 [00:02<00:06,  2.16s/it]\u001b[A\n",
      "Action: age:  25%|██▌       | 1/4 [00:02<00:06,  2.16s/it]    \u001b[A\n",
      "Action: age:  50%|█████     | 2/4 [00:04<00:04,  2.14s/it]\u001b[A\n",
      "Action: gender:  50%|█████     | 2/4 [00:04<00:04,  2.14s/it]\u001b[A\n",
      "Action: gender:  75%|███████▌  | 3/4 [00:04<00:01,  1.65s/it]\u001b[A\n",
      "Action: race:  75%|███████▌  | 3/4 [00:04<00:01,  1.65s/it]  \u001b[A\n",
      "Action: race: 100%|██████████| 4/4 [00:05<00:00,  1.33s/it]\u001b[A\n",
      "Analyzing:  60%|██████    | 6/10 [00:28<00:19,  4.88s/it]\n",
      "Finding actions:   0%|          | 0/4 [00:00<?, ?it/s]\u001b[A\n",
      "Action: emotion:   0%|          | 0/4 [00:00<?, ?it/s]\u001b[A\n",
      "Action: emotion:  25%|██▌       | 1/4 [00:01<00:05,  1.84s/it]\u001b[A\n",
      "Action: age:  25%|██▌       | 1/4 [00:01<00:05,  1.84s/it]    \u001b[A\n",
      "Action: age:  50%|█████     | 2/4 [00:03<00:03,  1.90s/it]\u001b[A\n",
      "Action: gender:  50%|█████     | 2/4 [00:03<00:03,  1.90s/it]\u001b[A\n",
      "Action: gender:  75%|███████▌  | 3/4 [00:04<00:01,  1.51s/it]\u001b[A\n",
      "Action: race:  75%|███████▌  | 3/4 [00:04<00:01,  1.51s/it]  \u001b[A\n",
      "Action: race: 100%|██████████| 4/4 [00:05<00:00,  1.30s/it]\u001b[A\n",
      "Analyzing:  70%|███████   | 7/10 [00:33<00:14,  4.98s/it]\n",
      "Finding actions:   0%|          | 0/4 [00:00<?, ?it/s]\u001b[A\n",
      "Action: emotion:   0%|          | 0/4 [00:00<?, ?it/s]\u001b[A\n",
      "Action: emotion:  25%|██▌       | 1/4 [00:02<00:06,  2.23s/it]\u001b[A\n",
      "Action: age:  25%|██▌       | 1/4 [00:02<00:06,  2.23s/it]    \u001b[A\n",
      "Action: age:  50%|█████     | 2/4 [00:04<00:04,  2.28s/it]\u001b[A\n",
      "Action: gender:  50%|█████     | 2/4 [00:04<00:04,  2.28s/it]\u001b[A\n",
      "Action: gender:  75%|███████▌  | 3/4 [00:05<00:01,  1.77s/it]\u001b[A\n",
      "Action: race:  75%|███████▌  | 3/4 [00:05<00:01,  1.77s/it]  \u001b[A\n",
      "Action: race: 100%|██████████| 4/4 [00:05<00:00,  1.46s/it]\u001b[A\n",
      "Analyzing:  80%|████████  | 8/10 [00:39<00:10,  5.24s/it]\n",
      "Finding actions:   0%|          | 0/4 [00:00<?, ?it/s]\u001b[A\n",
      "Action: emotion:   0%|          | 0/4 [00:00<?, ?it/s]\u001b[A\n",
      "Action: emotion:  25%|██▌       | 1/4 [00:01<00:04,  1.57s/it]\u001b[A\n",
      "Action: age:  25%|██▌       | 1/4 [00:01<00:04,  1.57s/it]    \u001b[A\n",
      "Action: age:  50%|█████     | 2/4 [00:03<00:03,  1.67s/it]\u001b[A\n",
      "Action: gender:  50%|█████     | 2/4 [00:03<00:03,  1.67s/it]\u001b[A\n",
      "Action: gender:  75%|███████▌  | 3/4 [00:04<00:01,  1.33s/it]\u001b[A\n",
      "Action: race:  75%|███████▌  | 3/4 [00:04<00:01,  1.33s/it]  \u001b[A\n",
      "Action: race: 100%|██████████| 4/4 [00:04<00:00,  1.14s/it]\u001b[A\n",
      "Analyzing:  90%|█████████ | 9/10 [00:44<00:05,  5.04s/it]\n",
      "Finding actions:   0%|          | 0/4 [00:00<?, ?it/s]\u001b[A\n",
      "Action: emotion:   0%|          | 0/4 [00:00<?, ?it/s]\u001b[A\n",
      "Action: emotion:  25%|██▌       | 1/4 [00:01<00:05,  1.70s/it]\u001b[A\n",
      "Action: age:  25%|██▌       | 1/4 [00:01<00:05,  1.70s/it]    \u001b[A\n",
      "Action: age:  50%|█████     | 2/4 [00:03<00:03,  1.85s/it]\u001b[A\n",
      "Action: gender:  50%|█████     | 2/4 [00:03<00:03,  1.85s/it]\u001b[A\n",
      "Action: gender:  75%|███████▌  | 3/4 [00:04<00:01,  1.46s/it]\u001b[A\n",
      "Action: race:  75%|███████▌  | 3/4 [00:04<00:01,  1.46s/it]  \u001b[A\n",
      "Action: race: 100%|██████████| 4/4 [00:04<00:00,  1.25s/it]\u001b[A\n",
      "Analyzing: 100%|██████████| 10/10 [00:49<00:00,  4.90s/it]\n"
     ]
    }
   ],
   "source": [
    "Analiz= DeepFace.analyze(Photos[-15:])"
   ]
  },
  {
   "cell_type": "code",
   "execution_count": 8,
   "metadata": {},
   "outputs": [
    {
     "data": {
      "text/plain": [
       "{'instance_1': {'emotion': {'angry': 0.00013980288409777295,\n",
       "   'disgust': 3.166709271208889e-10,\n",
       "   'fear': 3.7044855437463086e-05,\n",
       "   'happy': 82.81223671509247,\n",
       "   'sad': 0.013175053084924256,\n",
       "   'surprise': 0.006940878351886025,\n",
       "   'neutral': 17.16747386261665},\n",
       "  'dominant_emotion': 'happy',\n",
       "  'age': 24,\n",
       "  'gender': 'Man',\n",
       "  'race': {'asian': 21.183209121227264,\n",
       "   'indian': 3.6194857209920883,\n",
       "   'black': 1.1723150499165058,\n",
       "   'white': 36.984989047050476,\n",
       "   'middle eastern': 12.948694825172424,\n",
       "   'latino hispanic': 24.091309309005737},\n",
       "  'dominant_race': 'white'},\n",
       " 'instance_2': {'emotion': {'angry': 10.530109703540802,\n",
       "   'disgust': 8.717548780623474e-05,\n",
       "   'fear': 0.38160032127052546,\n",
       "   'happy': 25.507014989852905,\n",
       "   'sad': 8.310983330011368,\n",
       "   'surprise': 0.2381602767854929,\n",
       "   'neutral': 55.03205060958862},\n",
       "  'dominant_emotion': 'neutral',\n",
       "  'age': 27,\n",
       "  'gender': 'Man',\n",
       "  'race': {'asian': 0.000618515787209617,\n",
       "   'indian': 0.00523887065355666,\n",
       "   'black': 1.818987129809102e-05,\n",
       "   'white': 95.69566249847412,\n",
       "   'middle eastern': 2.30410099029541,\n",
       "   'latino hispanic': 1.9943583756685257},\n",
       "  'dominant_race': 'white'},\n",
       " 'instance_3': {'emotion': {'angry': 0.008667364971210583,\n",
       "   'disgust': 8.258417012319427e-10,\n",
       "   'fear': 0.03219219116522021,\n",
       "   'happy': 82.1960021374227,\n",
       "   'sad': 0.08791811356950484,\n",
       "   'surprise': 0.00019891382456627653,\n",
       "   'neutral': 17.675026814641168},\n",
       "  'dominant_emotion': 'happy',\n",
       "  'age': 24,\n",
       "  'gender': 'Man',\n",
       "  'race': {'asian': 36.15962266921997,\n",
       "   'indian': 4.285001382231712,\n",
       "   'black': 1.1023340746760368,\n",
       "   'white': 28.242328763008118,\n",
       "   'middle eastern': 6.177638471126556,\n",
       "   'latino hispanic': 24.033069610595703},\n",
       "  'dominant_race': 'asian'},\n",
       " 'instance_4': {'emotion': {'angry': 0.3279486596374106,\n",
       "   'disgust': 1.4297292522291833e-05,\n",
       "   'fear': 0.01685869702642152,\n",
       "   'happy': 62.75123509779395,\n",
       "   'sad': 3.4922466119821802,\n",
       "   'surprise': 0.027375616253427118,\n",
       "   'neutral': 33.38432411960651},\n",
       "  'dominant_emotion': 'happy',\n",
       "  'age': 25,\n",
       "  'gender': 'Man',\n",
       "  'race': {'asian': 0.6859899964183569,\n",
       "   'indian': 0.6521498784422874,\n",
       "   'black': 0.0642411585431546,\n",
       "   'white': 65.7627522945404,\n",
       "   'middle eastern': 13.447520136833191,\n",
       "   'latino hispanic': 19.387342035770416},\n",
       "  'dominant_race': 'white'},\n",
       " 'instance_5': {'emotion': {'angry': 0.00984388534561731,\n",
       "   'disgust': 2.341568995992138e-10,\n",
       "   'fear': 0.0024538609068258666,\n",
       "   'happy': 44.702741503715515,\n",
       "   'sad': 5.12930303812027,\n",
       "   'surprise': 0.018297570932190865,\n",
       "   'neutral': 50.13735890388489},\n",
       "  'dominant_emotion': 'neutral',\n",
       "  'age': 25,\n",
       "  'gender': 'Man',\n",
       "  'race': {'asian': 11.545908451080322,\n",
       "   'indian': 7.007341086864471,\n",
       "   'black': 1.8584175035357475,\n",
       "   'white': 26.746779680252075,\n",
       "   'middle eastern': 19.341640174388885,\n",
       "   'latino hispanic': 33.4999144077301},\n",
       "  'dominant_race': 'latino hispanic'},\n",
       " 'instance_6': {'emotion': {'angry': 0.0001616864158575871,\n",
       "   'disgust': 5.119347769937197e-13,\n",
       "   'fear': 8.167455152986147e-10,\n",
       "   'happy': 99.90439413268462,\n",
       "   'sad': 0.0001989440889828979,\n",
       "   'surprise': 4.338272295542801e-07,\n",
       "   'neutral': 0.0952480531182384},\n",
       "  'dominant_emotion': 'happy',\n",
       "  'age': 23,\n",
       "  'gender': 'Man',\n",
       "  'race': {'asian': 0.40487702935934067,\n",
       "   'indian': 2.42737103253603,\n",
       "   'black': 0.0807122967671603,\n",
       "   'white': 52.91420221328735,\n",
       "   'middle eastern': 25.566968321800232,\n",
       "   'latino hispanic': 18.60586851835251},\n",
       "  'dominant_race': 'white'},\n",
       " 'instance_7': {'emotion': {'angry': 0.0500058086592441,\n",
       "   'disgust': 4.007086901324053e-07,\n",
       "   'fear': 0.027945249377280438,\n",
       "   'happy': 20.372137151487895,\n",
       "   'sad': 3.5352664312879103,\n",
       "   'surprise': 0.009581768816088517,\n",
       "   'neutral': 76.00506401092196},\n",
       "  'dominant_emotion': 'neutral',\n",
       "  'age': 28,\n",
       "  'gender': 'Man',\n",
       "  'race': {'asian': 1.336511197568321,\n",
       "   'indian': 3.2032363210006145,\n",
       "   'black': 0.43188347973030566,\n",
       "   'white': 40.716104592812606,\n",
       "   'middle eastern': 22.22642120437875,\n",
       "   'latino hispanic': 32.085848699313246},\n",
       "  'dominant_race': 'white'},\n",
       " 'instance_8': {'emotion': {'angry': 46.688610315322876,\n",
       "   'disgust': 0.0012825843441532925,\n",
       "   'fear': 1.1743823997676373,\n",
       "   'happy': 0.698133883997798,\n",
       "   'sad': 24.383549392223358,\n",
       "   'surprise': 0.0454010209068656,\n",
       "   'neutral': 27.0086407661438},\n",
       "  'dominant_emotion': 'angry',\n",
       "  'age': 32,\n",
       "  'gender': 'Man',\n",
       "  'race': {'asian': 1.090922178532015,\n",
       "   'indian': 1.480665239284351,\n",
       "   'black': 0.1783898672246854,\n",
       "   'white': 56.64387086891358,\n",
       "   'middle eastern': 16.028718115610964,\n",
       "   'latino hispanic': 24.57743582591032},\n",
       "  'dominant_race': 'white'},\n",
       " 'instance_9': {'emotion': {'angry': 0.00010868137678698986,\n",
       "   'disgust': 2.686027669816099e-11,\n",
       "   'fear': 1.0562167140903966e-06,\n",
       "   'happy': 99.56307411193848,\n",
       "   'sad': 0.08823259267956018,\n",
       "   'surprise': 6.0999994389021595e-06,\n",
       "   'neutral': 0.3485818626359105},\n",
       "  'dominant_emotion': 'happy',\n",
       "  'age': 24,\n",
       "  'gender': 'Man',\n",
       "  'race': {'asian': 0.009336617949884385,\n",
       "   'indian': 0.011392973829060793,\n",
       "   'black': 0.0006529017809953075,\n",
       "   'white': 91.90018773078918,\n",
       "   'middle eastern': 3.4473154693841934,\n",
       "   'latino hispanic': 4.631112515926361},\n",
       "  'dominant_race': 'white'},\n",
       " 'instance_10': {'emotion': {'angry': 5.117201060056686,\n",
       "   'disgust': 1.6528468904652982e-05,\n",
       "   'fear': 0.07018797332420945,\n",
       "   'happy': 5.029375851154327,\n",
       "   'sad': 9.089647233486176,\n",
       "   'surprise': 0.012951027019880712,\n",
       "   'neutral': 80.6806206703186},\n",
       "  'dominant_emotion': 'neutral',\n",
       "  'age': 26,\n",
       "  'gender': 'Man',\n",
       "  'race': {'asian': 0.04884325317107141,\n",
       "   'indian': 0.11621232843026519,\n",
       "   'black': 0.0029580451155197807,\n",
       "   'white': 77.03577876091003,\n",
       "   'middle eastern': 6.526070833206177,\n",
       "   'latino hispanic': 16.270136833190918},\n",
       "  'dominant_race': 'white'}}"
      ]
     },
     "execution_count": 8,
     "metadata": {},
     "output_type": "execute_result"
    }
   ],
   "source": [
    "Analiz"
   ]
  },
  {
   "cell_type": "code",
   "execution_count": null,
   "metadata": {},
   "outputs": [],
   "source": []
  },
  {
   "cell_type": "code",
   "execution_count": 7,
   "metadata": {},
   "outputs": [
    {
     "data": {
      "text/plain": [
       "['instance_1',\n",
       " 'instance_2',\n",
       " 'instance_3',\n",
       " 'instance_4',\n",
       " 'instance_5',\n",
       " 'instance_6',\n",
       " 'instance_7',\n",
       " 'instance_8',\n",
       " 'instance_9',\n",
       " 'instance_10']"
      ]
     },
     "execution_count": 7,
     "metadata": {},
     "output_type": "execute_result"
    }
   ],
   "source": [
    "list(Analiz)"
   ]
  },
  {
   "cell_type": "code",
   "execution_count": 9,
   "metadata": {},
   "outputs": [
    {
     "name": "stdout",
     "output_type": "stream",
     "text": [
      "['white', 'white', 'asian', 'white', 'latino hispanic', 'white', 'white', 'white', 'white', 'white']\n"
     ]
    }
   ],
   "source": [
    "    Analiz1 = Analiz.get('instance_1')\n",
    "    Analiz2 = Analiz.get('instance_2')\n",
    "    Analiz3 = Analiz.get('instance_3')\n",
    "    Analiz4 = Analiz.get('instance_4')\n",
    "    Analiz5 = Analiz.get('instance_5')\n",
    "    Analiz6 = Analiz.get('instance_6')\n",
    "    Analiz7 = Analiz.get('instance_7')\n",
    "    Analiz8 = Analiz.get('instance_8')\n",
    "    Analiz9 = Analiz.get('instance_9')\n",
    "    Analiz10 = Analiz.get('instance_10')\n",
    "    Analiz11 = Analiz.get('instance_11')\n",
    "    Analiz12 = Analiz.get('instance_12')\n",
    "    Analiz13 = Analiz.get('instance_13')\n",
    "    Analiz14 = Analiz.get('instance_14')\n",
    "    Analiz15 = Analiz.get('instance_15')\n",
    "\n",
    "\n",
    "    Racelist = [Analiz1['dominant_race'],\n",
    "               Analiz2['dominant_race'],\n",
    "               Analiz3['dominant_race'],\n",
    "               Analiz4['dominant_race'],\n",
    "               Analiz5['dominant_race'],\n",
    "               Analiz6['dominant_race'],\n",
    "                Analiz7['dominant_race'],\n",
    "                Analiz8['dominant_race'],\n",
    "                Analiz9['dominant_race'],\n",
    "                Analiz10['dominant_race'],\n",
    "                Analiz11['dominant_race'],\n",
    "                Analiz12['dominant_race'],\n",
    "                Analiz13['dominant_race'],\n",
    "                Analiz14['dominant_race'],\n",
    "                Analiz15['dominant_race'],\n",
    "                ]\n",
    "\n",
    "    print(Racelist)\n"
   ]
  },
  {
   "cell_type": "code",
   "execution_count": 17,
   "metadata": {},
   "outputs": [
    {
     "name": "stdout",
     "output_type": "stream",
     "text": [
      "[('C:\\\\Users\\\\UNKNOWN\\\\Desktop\\\\FaceDataset/v3_0295074.jpg', 'white'), ('C:\\\\Users\\\\UNKNOWN\\\\Desktop\\\\FaceDataset/v3_0563270.jpg', 'white'), ('C:\\\\Users\\\\UNKNOWN\\\\Desktop\\\\FaceDataset/v3_0508660.jpg', 'asian'), ('C:\\\\Users\\\\UNKNOWN\\\\Desktop\\\\FaceDataset/v3_0509429.jpg', 'white'), ('C:\\\\Users\\\\UNKNOWN\\\\Desktop\\\\FaceDataset/v3_0926561.jpg', 'latino hispanic'), ('C:\\\\Users\\\\UNKNOWN\\\\Desktop\\\\FaceDataset/v3_0846155.jpg', 'white'), ('C:\\\\Users\\\\UNKNOWN\\\\Desktop\\\\FaceDataset/v3_0130792.jpg', 'white'), ('C:\\\\Users\\\\UNKNOWN\\\\Desktop\\\\FaceDataset/v3_0005954.jpg', 'white'), ('C:\\\\Users\\\\UNKNOWN\\\\Desktop\\\\FaceDataset/v3_0538902.jpg', 'white'), ('C:\\\\Users\\\\UNKNOWN\\\\Desktop\\\\FaceDataset/v3_0687627.jpg', 'white')]\n"
     ]
    }
   ],
   "source": [
    "combine= zip(Photos[-10:],racelist)\n",
    "combinedlist= list(combine)\n",
    "print(combinedlist)"
   ]
  },
  {
   "cell_type": "code",
   "execution_count": 18,
   "metadata": {},
   "outputs": [
    {
     "name": "stdout",
     "output_type": "stream",
     "text": [
      "['C:\\\\Users\\\\UNKNOWN\\\\Desktop\\\\FaceDataset/v3_0295074.jpg', 'C:\\\\Users\\\\UNKNOWN\\\\Desktop\\\\FaceDataset/v3_0563270.jpg', 'C:\\\\Users\\\\UNKNOWN\\\\Desktop\\\\FaceDataset/v3_0509429.jpg', 'C:\\\\Users\\\\UNKNOWN\\\\Desktop\\\\FaceDataset/v3_0846155.jpg', 'C:\\\\Users\\\\UNKNOWN\\\\Desktop\\\\FaceDataset/v3_0130792.jpg', 'C:\\\\Users\\\\UNKNOWN\\\\Desktop\\\\FaceDataset/v3_0005954.jpg', 'C:\\\\Users\\\\UNKNOWN\\\\Desktop\\\\FaceDataset/v3_0538902.jpg', 'C:\\\\Users\\\\UNKNOWN\\\\Desktop\\\\FaceDataset/v3_0687627.jpg']\n"
     ]
    }
   ],
   "source": [
    "finallist = []  #hedef kişinin daminant ırkı ile eşleşen kişilerin dahil olduğu liste \n",
    "for a, b in combinedlist:\n",
    "    if b== resp[\"dominant_race\"]:\n",
    "        finallist += [a]\n",
    "print(finallist)"
   ]
  },
  {
   "cell_type": "code",
   "execution_count": null,
   "metadata": {},
   "outputs": [],
   "source": [
    "imgJ1_path= 'C:\\\\Users\\\\UNKNOWN\\\\Desktop\\\\FaceDataset\\\\Johnny_Depp_1_p.jpg'\n",
    "imgF4_path= 'C:\\\\Users\\\\UNKNOWN\\\\Desktop\\\\FaceDataset\\\\v3_0687627.jpg'\n",
    "\n",
    "respT1= DeepFace.verify(imgJ1_path,imgF4_path, \n",
    "                       model_name= \"VGG-Face\", \n",
    "                       distance_metric= \"cosine\")\n"
   ]
  },
  {
   "cell_type": "code",
   "execution_count": null,
   "metadata": {},
   "outputs": [],
   "source": [
    "respT1"
   ]
  },
  {
   "cell_type": "code",
   "execution_count": null,
   "metadata": {},
   "outputs": [],
   "source": []
  },
  {
   "cell_type": "code",
   "execution_count": 13,
   "metadata": {},
   "outputs": [
    {
     "data": {
      "image/png": "[encoded data removed]",
      "text/plain": [
       "<Figure size 432x288 with 1 Axes>"
      ]
     },
     "metadata": {
      "needs_background": "light"
     },
     "output_type": "display_data"
    },
    {
     "name": "stderr",
     "output_type": "stream",
     "text": [
      "Action: emotion:   0%|          | 0/4 [00:00<?, ?it/s]"
     ]
    },
    {
     "name": "stdout",
     "output_type": "stream",
     "text": [
      "WARNING:tensorflow:5 out of the last 370 calls to <function Model.make_predict_function.<locals>.predict_function at 0x000001C99C4DEEE0> triggered tf.function retracing. Tracing is expensive and the excessive number of tracings could be due to (1) creating @tf.function repeatedly in a loop, (2) passing tensors with different shapes, (3) passing Python objects instead of tensors. For (1), please define your @tf.function outside of the loop. For (2), @tf.function has experimental_relax_shapes=True option that relaxes argument shapes that can avoid unnecessary retracing. For (3), please refer to https://www.tensorflow.org/guide/function#controlling_retracing and https://www.tensorflow.org/api_docs/python/tf/function for  more details.\n",
      "WARNING:tensorflow:5 out of the last 11 calls to <function Model.make_predict_function.<locals>.predict_function at 0x000001C99C576DC0> triggered tf.function retracing. Tracing is expensive and the excessive number of tracings could be due to (1) creating @tf.function repeatedly in a loop, (2) passing tensors with different shapes, (3) passing Python objects instead of tensors. For (1), please define your @tf.function outside of the loop. For (2), @tf.function has experimental_relax_shapes=True option that relaxes argument shapes that can avoid unnecessary retracing. For (3), please refer to https://www.tensorflow.org/guide/function#controlling_retracing and https://www.tensorflow.org/api_docs/python/tf/function for  more details.\n"
     ]
    },
    {
     "name": "stderr",
     "output_type": "stream",
     "text": [
      "Action: race: 100%|██████████| 4/4 [00:05<00:00,  1.43s/it]   "
     ]
    },
    {
     "name": "stdout",
     "output_type": "stream",
     "text": [
      "27\n",
      "Man\n",
      "white\n",
      "happy\n"
     ]
    },
    {
     "name": "stderr",
     "output_type": "stream",
     "text": [
      "\n"
     ]
    }
   ],
   "source": [
    "target= 'C:\\\\Users\\\\UNKNOWN\\\\Desktop\\\\FaceDataset\\\\Johnny_Depp_1_p.jpg'\n",
    "img = cv2.imread(target)\n",
    "plt.imshow(img[:,:,  ::-1])\n",
    "plt.show()\n",
    "\n",
    "resp= DeepFace.analyze(target)\n",
    "\n",
    "print(resp[\"age\"])\n",
    "print(resp[\"gender\"])\n",
    "print(resp[\"dominant_race\"])\n",
    "print(resp[\"dominant_emotion\"])"
   ]
  },
  {
   "cell_type": "code",
   "execution_count": null,
   "metadata": {},
   "outputs": [],
   "source": []
  }
 ],
 "metadata": {
  "kernelspec": {
   "display_name": "Python 3 (ipykernel)",
   "language": "python",
   "name": "python3"
  },
  "language_info": {
   "codemirror_mode": {
    "name": "ipython",
    "version": 3
   },
   "file_extension": ".py",
   "mimetype": "text/x-python",
   "name": "python",
   "nbconvert_exporter": "python",
   "pygments_lexer": "ipython3",
   "version": "3.9.7"
  }
 },
 "nbformat": 4,
 "nbformat_minor": 4
}
